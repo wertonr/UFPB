{
  "nbformat": 4,
  "nbformat_minor": 0,
  "metadata": {
    "colab": {
      "name": "Aula 2 - Introdução ao Python.ipynb",
      "provenance": [],
      "collapsed_sections": [
        "AHsNTcJngt_I",
        "rJW2bFY5gy11",
        "8zxOKTLRhA-I"
      ],
      "authorship_tag": "ABX9TyNd4FjcHjESZvCHqDJbjzGW",
      "include_colab_link": true
    },
    "kernelspec": {
      "name": "python3",
      "display_name": "Python 3"
    },
    "language_info": {
      "name": "python"
    }
  },
  "cells": [
    {
      "cell_type": "markdown",
      "metadata": {
        "id": "view-in-github",
        "colab_type": "text"
      },
      "source": [
        "<a href=\"https://colab.research.google.com/github/wertonr/UFPB/blob/main/Aula_2_Introdu%C3%A7%C3%A3o_ao_Python.ipynb\" target=\"_parent\"><img src=\"https://colab.research.google.com/assets/colab-badge.svg\" alt=\"Open In Colab\"/></a>"
      ]
    },
    {
      "cell_type": "markdown",
      "source": [
        "# Aula 2 - Introdução ao python\n",
        "Nesta aula veremos:\n",
        "- Função Print\n",
        "- Operadores aritméticos: adição (+), subtração (-), Multiplicação (*), Divisão (/), Exponenciação (***), Divisão resultado inteiro (//) \n",
        "- Tipos de variáveis: string, int, float,\n",
        "\n",
        "\n"
      ],
      "metadata": {
        "id": "dI65PqnWLwoE"
      }
    },
    {
      "cell_type": "markdown",
      "source": [
        "##Função Print"
      ],
      "metadata": {
        "id": "AHsNTcJngt_I"
      }
    },
    {
      "cell_type": "code",
      "execution_count": null,
      "metadata": {
        "id": "Jtpwo_HALQiG",
        "colab": {
          "base_uri": "https://localhost:8080/"
        },
        "outputId": "86c5551b-de8f-4c91-9799-37476a03d218"
      },
      "outputs": [
        {
          "output_type": "stream",
          "name": "stdout",
          "text": [
            "Hello, World!\n"
          ]
        }
      ],
      "source": [
        "# Primeira função: imprimir na tela (print)\n",
        "print(\"Hello, World!\")\n"
      ]
    },
    {
      "cell_type": "code",
      "source": [
        "print('Qual o valor de x?')\n",
        "x = 4 + 2\n",
        "x"
      ],
      "metadata": {
        "id": "hQeDZv2KLzv4",
        "colab": {
          "base_uri": "https://localhost:8080/"
        },
        "outputId": "9ca2cdfd-1145-4c23-d0ca-c9273dfd093d"
      },
      "execution_count": null,
      "outputs": [
        {
          "output_type": "stream",
          "name": "stdout",
          "text": [
            "Qual o valor de x?\n"
          ]
        },
        {
          "output_type": "execute_result",
          "data": {
            "text/plain": [
              "6"
            ]
          },
          "metadata": {},
          "execution_count": 5
        }
      ]
    },
    {
      "cell_type": "code",
      "source": [
        "print(x)"
      ],
      "metadata": {
        "id": "0ov5-GjaME5G"
      },
      "execution_count": null,
      "outputs": []
    },
    {
      "cell_type": "markdown",
      "source": [
        "##Operadores aritméticos"
      ],
      "metadata": {
        "id": "rJW2bFY5gy11"
      }
    },
    {
      "cell_type": "code",
      "source": [
        "#Operadores aritméticos: adição\n",
        "132 + 43\n",
        "\n"
      ],
      "metadata": {
        "id": "qaLrI0QyMrfj",
        "colab": {
          "base_uri": "https://localhost:8080/"
        },
        "outputId": "988f4f34-9f95-4e8d-cd40-0ea0e9ffcb61"
      },
      "execution_count": null,
      "outputs": [
        {
          "output_type": "execute_result",
          "data": {
            "text/plain": [
              "175"
            ]
          },
          "metadata": {},
          "execution_count": 6
        }
      ]
    },
    {
      "cell_type": "code",
      "source": [
        "#Operadores aritméticos: subtração\n",
        "73 - 14"
      ],
      "metadata": {
        "id": "SuzmouXAPIre",
        "colab": {
          "base_uri": "https://localhost:8080/"
        },
        "outputId": "97831915-55b3-4f0f-b4a1-6598ce3fdbdb"
      },
      "execution_count": null,
      "outputs": [
        {
          "output_type": "execute_result",
          "data": {
            "text/plain": [
              "59"
            ]
          },
          "metadata": {},
          "execution_count": 7
        }
      ]
    },
    {
      "cell_type": "code",
      "source": [
        "#Operadores aritméticos: multiplicação\n",
        "22 * 3"
      ],
      "metadata": {
        "id": "KMXlnxhzPRTB",
        "colab": {
          "base_uri": "https://localhost:8080/"
        },
        "outputId": "3f886d99-ab46-4f7c-d8c2-0b3887f5e4ed"
      },
      "execution_count": null,
      "outputs": [
        {
          "output_type": "execute_result",
          "data": {
            "text/plain": [
              "66"
            ]
          },
          "metadata": {},
          "execution_count": 8
        }
      ]
    },
    {
      "cell_type": "code",
      "source": [
        "#Operadores aritméticos: divisão\n",
        "100 / 3"
      ],
      "metadata": {
        "id": "atDW5PmLPUIj",
        "colab": {
          "base_uri": "https://localhost:8080/"
        },
        "outputId": "625bcd0e-7cc9-400a-b417-4fa817debdce"
      },
      "execution_count": null,
      "outputs": [
        {
          "output_type": "execute_result",
          "data": {
            "text/plain": [
              "33.333333333333336"
            ]
          },
          "metadata": {},
          "execution_count": 9
        }
      ]
    },
    {
      "cell_type": "code",
      "source": [
        "#Operadores aritméticos: divisão resultado inteiro\n",
        "100 // 3"
      ],
      "metadata": {
        "id": "AAbIuiztVS-Q",
        "colab": {
          "base_uri": "https://localhost:8080/"
        },
        "outputId": "06aa756d-9fc0-435f-9d29-d4df4660198a"
      },
      "execution_count": null,
      "outputs": [
        {
          "output_type": "execute_result",
          "data": {
            "text/plain": [
              "33"
            ]
          },
          "metadata": {},
          "execution_count": 10
        }
      ]
    },
    {
      "cell_type": "code",
      "source": [
        "101 // 3"
      ],
      "metadata": {
        "id": "Z4-hwfN7VujS",
        "colab": {
          "base_uri": "https://localhost:8080/"
        },
        "outputId": "a589a347-516a-4a06-98be-3dc1b3f3dea1"
      },
      "execution_count": null,
      "outputs": [
        {
          "output_type": "execute_result",
          "data": {
            "text/plain": [
              "33"
            ]
          },
          "metadata": {},
          "execution_count": 12
        }
      ]
    },
    {
      "cell_type": "code",
      "source": [
        "#Operadores aritméticos: exponencial\n",
        "3 ** 2"
      ],
      "metadata": {
        "id": "_v8h6xumV4zZ",
        "colab": {
          "base_uri": "https://localhost:8080/"
        },
        "outputId": "55a86317-1c1f-4dd5-9e41-135cc03c1aed"
      },
      "execution_count": null,
      "outputs": [
        {
          "output_type": "execute_result",
          "data": {
            "text/plain": [
              "9"
            ]
          },
          "metadata": {},
          "execution_count": 13
        }
      ]
    },
    {
      "cell_type": "markdown",
      "source": [
        "Ordem de precedência (PEMDAS):\n",
        "\n",
        "- 1º Parênteses; \n",
        "- 2º Expoentes\n",
        "- 3º Multiplicações e divisões (da esquerda para direita)\n",
        "- 4º Adições e subtrações (da esquerda para direita)\n"
      ],
      "metadata": {
        "id": "4obu6u9MXs85"
      }
    },
    {
      "cell_type": "markdown",
      "source": [
        "Qual a resposta dessas equações?\n",
        "\n",
        "$\n",
        "x = 7 + 7 / 7 + 7 * 7 - 7\n",
        "$\n",
        "\n",
        "\n",
        "$\n",
        "x = 8 / 2 (2+2)\n",
        "$\n",
        "\n",
        "\n",
        "\n"
      ],
      "metadata": {
        "id": "y5YqQWukYljw"
      }
    },
    {
      "cell_type": "code",
      "source": [
        ""
      ],
      "metadata": {
        "id": "_9YgHTSuYSPA"
      },
      "execution_count": null,
      "outputs": []
    },
    {
      "cell_type": "markdown",
      "source": [
        "## Tipos de variáveis"
      ],
      "metadata": {
        "id": "8zxOKTLRhA-I"
      }
    },
    {
      "cell_type": "code",
      "source": [
        "#String = texto (nossa linguagem com palavras e caracteres), vai ver descrita como str ou tipo objeto \n",
        "'Isso é uma string'"
      ],
      "metadata": {
        "id": "GPHdjnyUaWiP",
        "colab": {
          "base_uri": "https://localhost:8080/",
          "height": 35
        },
        "outputId": "1c1ecf82-47e7-4be5-92b4-10bd299c0665"
      },
      "execution_count": null,
      "outputs": [
        {
          "output_type": "execute_result",
          "data": {
            "text/plain": [
              "'Isso é uma string'"
            ],
            "application/vnd.google.colaboratory.intrinsic+json": {
              "type": "string"
            }
          },
          "metadata": {},
          "execution_count": 14
        }
      ]
    },
    {
      "cell_type": "code",
      "source": [
        "#Inteiro = número inteiro, vai ser descrita como int\n",
        "4\n"
      ],
      "metadata": {
        "id": "TITxgk0XXKM0",
        "colab": {
          "base_uri": "https://localhost:8080/"
        },
        "outputId": "d9d46ce6-72af-4a38-cda9-34d3cadff897"
      },
      "execution_count": null,
      "outputs": [
        {
          "output_type": "execute_result",
          "data": {
            "text/plain": [
              "4"
            ]
          },
          "metadata": {},
          "execution_count": 15
        }
      ]
    },
    {
      "cell_type": "code",
      "source": [
        "#Float = ponto flutuante ou decimal, vai ser descrito como float\n",
        "4.2"
      ],
      "metadata": {
        "id": "BAi_JLt9X2Ap",
        "colab": {
          "base_uri": "https://localhost:8080/"
        },
        "outputId": "33f4af34-d624-41a6-8e0a-8545cf680f88"
      },
      "execution_count": null,
      "outputs": [
        {
          "output_type": "execute_result",
          "data": {
            "text/plain": [
              "4.2"
            ]
          },
          "metadata": {},
          "execution_count": 16
        }
      ]
    },
    {
      "cell_type": "code",
      "source": [
        "#boolean = variavel booleana (True ou False), vai ser descrita como bool \n",
        "True "
      ],
      "metadata": {
        "id": "ZLEmEMiLaE8K",
        "colab": {
          "base_uri": "https://localhost:8080/"
        },
        "outputId": "b9d52942-d924-4065-e7f2-eac3fdf38bd2"
      },
      "execution_count": null,
      "outputs": [
        {
          "output_type": "execute_result",
          "data": {
            "text/plain": [
              "True"
            ]
          },
          "metadata": {},
          "execution_count": 17
        }
      ]
    },
    {
      "cell_type": "code",
      "source": [
        "#lista = estrutura de dados com itens organizados de forma linear e iniciando do zero, vai ser descrita como list\n",
        "compras = ['Maça', 'Café', 'Ovo']\n"
      ],
      "metadata": {
        "id": "8VrZUyVNdAb0"
      },
      "execution_count": null,
      "outputs": []
    },
    {
      "cell_type": "code",
      "source": [
        "variaveis = ['Brasil', 26, 1121.00]\n"
      ],
      "metadata": {
        "id": "yEWzr6Beduzd"
      },
      "execution_count": null,
      "outputs": []
    },
    {
      "cell_type": "code",
      "source": [
        "#Consultar o tipo da variável\n",
        "type('Isso é uma string')"
      ],
      "metadata": {
        "id": "0kWeif6DXn4S",
        "colab": {
          "base_uri": "https://localhost:8080/"
        },
        "outputId": "5ac8ca6e-f0b4-4cdf-b3b2-1676bbc4a464"
      },
      "execution_count": null,
      "outputs": [
        {
          "output_type": "execute_result",
          "data": {
            "text/plain": [
              "str"
            ]
          },
          "metadata": {},
          "execution_count": 20
        }
      ]
    },
    {
      "cell_type": "code",
      "source": [
        "#Associando um valor a variavel\n",
        "x = 4.2"
      ],
      "metadata": {
        "id": "MKLploCAZGYq"
      },
      "execution_count": null,
      "outputs": []
    },
    {
      "cell_type": "code",
      "source": [
        "print(x)\n",
        "4+2"
      ],
      "metadata": {
        "id": "nBL3HCzYZLQH",
        "colab": {
          "base_uri": "https://localhost:8080/"
        },
        "outputId": "9d6a26cc-44c1-494d-dc3b-8f5569676db5"
      },
      "execution_count": null,
      "outputs": [
        {
          "output_type": "stream",
          "name": "stdout",
          "text": [
            "4.2\n"
          ]
        },
        {
          "output_type": "execute_result",
          "data": {
            "text/plain": [
              "6"
            ]
          },
          "metadata": {},
          "execution_count": 22
        }
      ]
    },
    {
      "cell_type": "code",
      "source": [
        "x = 'João Pessoa'"
      ],
      "metadata": {
        "id": "62OepvbGZU5b"
      },
      "execution_count": null,
      "outputs": []
    },
    {
      "cell_type": "code",
      "source": [
        "print('Qual sua cidade:', x)"
      ],
      "metadata": {
        "id": "eswV8cTNZh3f",
        "colab": {
          "base_uri": "https://localhost:8080/"
        },
        "outputId": "bae32fa2-374b-4483-c999-8325f1541154"
      },
      "execution_count": null,
      "outputs": [
        {
          "output_type": "stream",
          "name": "stdout",
          "text": [
            "Qual sua cidade: 4.2\n"
          ]
        }
      ]
    },
    {
      "cell_type": "code",
      "source": [
        "#Contar quantos caracteres tem na variavel string (OBS: também são contatos os espaços em branco)\n",
        "len(x)"
      ],
      "metadata": {
        "id": "5nFn9kzjameA",
        "colab": {
          "base_uri": "https://localhost:8080/"
        },
        "outputId": "cddc12e3-0fe8-4570-ac90-73a235978654"
      },
      "execution_count": null,
      "outputs": [
        {
          "output_type": "execute_result",
          "data": {
            "text/plain": [
              "11"
            ]
          },
          "metadata": {},
          "execution_count": 26
        }
      ]
    },
    {
      "cell_type": "code",
      "source": [
        "#Quantos itens tem na lista\n",
        "len(compras)"
      ],
      "metadata": {
        "id": "BwQ6ATPSbBbo",
        "colab": {
          "base_uri": "https://localhost:8080/"
        },
        "outputId": "52c53eb1-1cef-41df-a340-9ea84f204b05"
      },
      "execution_count": null,
      "outputs": [
        {
          "output_type": "execute_result",
          "data": {
            "text/plain": [
              "3"
            ]
          },
          "metadata": {},
          "execution_count": 27
        }
      ]
    },
    {
      "cell_type": "code",
      "source": [
        "x[1:]"
      ],
      "metadata": {
        "id": "BErHQJbyeTeV",
        "colab": {
          "base_uri": "https://localhost:8080/",
          "height": 35
        },
        "outputId": "6d0235f3-bf36-444e-d092-aa6ed47e4223"
      },
      "execution_count": null,
      "outputs": [
        {
          "output_type": "execute_result",
          "data": {
            "text/plain": [
              "'oão Pessoa'"
            ],
            "application/vnd.google.colaboratory.intrinsic+json": {
              "type": "string"
            }
          },
          "metadata": {},
          "execution_count": 33
        }
      ]
    },
    {
      "cell_type": "code",
      "source": [
        "# converter float para inteiro\n",
        "pi = 3.14\n",
        "pi_int = int(pi)\n",
        "type(pi_int)\n"
      ],
      "metadata": {
        "colab": {
          "base_uri": "https://localhost:8080/"
        },
        "id": "cCZksL5TeteA",
        "outputId": "e5a324c4-8b8b-4cc0-a71b-fdac05bd29f2"
      },
      "execution_count": null,
      "outputs": [
        {
          "output_type": "execute_result",
          "data": {
            "text/plain": [
              "int"
            ]
          },
          "metadata": {},
          "execution_count": 35
        }
      ]
    },
    {
      "cell_type": "code",
      "source": [
        "# "
      ],
      "metadata": {
        "id": "jmLPbxGlgXcl"
      },
      "execution_count": null,
      "outputs": []
    },
    {
      "cell_type": "code",
      "source": [
        ""
      ],
      "metadata": {
        "id": "hR9dxmsFecDk"
      },
      "execution_count": null,
      "outputs": []
    }
  ]
}