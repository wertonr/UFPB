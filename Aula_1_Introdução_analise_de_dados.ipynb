{
  "nbformat": 4,
  "nbformat_minor": 0,
  "metadata": {
    "colab": {
      "name": "Aula 1-Introdução analise de dados.ipynb",
      "provenance": [],
      "collapsed_sections": [],
      "authorship_tag": "ABX9TyMaitf2PcC6xijQACtutPM8",
      "include_colab_link": true
    },
    "kernelspec": {
      "name": "python3",
      "display_name": "Python 3"
    },
    "language_info": {
      "name": "python"
    }
  },
  "cells": [
    {
      "cell_type": "markdown",
      "metadata": {
        "id": "view-in-github",
        "colab_type": "text"
      },
      "source": [
        "<a href=\"https://colab.research.google.com/github/wertonr/UFPB/blob/main/Aula_1_Introdu%C3%A7%C3%A3o_analise_de_dados.ipynb\" target=\"_parent\"><img src=\"https://colab.research.google.com/assets/colab-badge.svg\" alt=\"Open In Colab\"/></a>"
      ]
    },
    {
      "cell_type": "markdown",
      "source": [
        "# Aula 1 - Introdução a análise de dados \n",
        "\n",
        "\n"
      ],
      "metadata": {
        "id": "iXBxYHjCEbH1"
      }
    },
    {
      "cell_type": "code",
      "execution_count": null,
      "metadata": {
        "id": "1TCs97jvBpF3"
      },
      "outputs": [],
      "source": [
        "#Importar a biblioteca \"pandas\" e atribuir a sigla \"pd\" para chamar a biblioteca \n",
        "import pandas as pd "
      ]
    },
    {
      "cell_type": "code",
      "source": [
        "#Ler um arquivo em formato excel e salvar na variavel dados (OBS: utilizar \",None\" sempre que tiver mais de uma planilha no arquivo)\n",
        "#dados = pd.read_excel ('BaseDados.xlsx', None)\n",
        "dados = pd.read_excel('/content/BaseDados.xlsx', None )"
      ],
      "metadata": {
        "id": "TbtF5ElYFu_j"
      },
      "execution_count": null,
      "outputs": []
    },
    {
      "cell_type": "code",
      "source": [
        "dados"
      ],
      "metadata": {
        "id": "0yj_-JreHVCB",
        "colab": {
          "base_uri": "https://localhost:8080/"
        },
        "outputId": "194e2e8b-614b-4cb4-d894-29ee5b6a5ce4"
      },
      "execution_count": null,
      "outputs": [
        {
          "output_type": "execute_result",
          "data": {
            "text/plain": [
              "{'Cadastro de Produtos':      Cod Produto Grupo Produto Linha Produto     Fornecedor  CustoUnitario\n",
              " 0           2096      Açúcares     Alimentos    King Coffee           2.11\n",
              " 1           2097      Açúcares     Alimentos    King Coffee           2.11\n",
              " 2            462      Açúcares     Alimentos    King Coffee           1.87\n",
              " 3            467      Açúcares     Alimentos    King Coffee           1.85\n",
              " 4            691      Açúcares     Alimentos    King Coffee           2.74\n",
              " ..           ...           ...           ...            ...            ...\n",
              " 662         2658   Vinho Tinto       Bebidas  Kappa Bebidas           1.45\n",
              " 663         2659   Vinho Tinto       Bebidas  Kappa Bebidas           1.45\n",
              " 664         2388   Vinho Tinto       Bebidas  Kappa Bebidas           1.88\n",
              " 665         2648   Vinho Tinto       Bebidas  Kappa Bebidas           1.42\n",
              " 666         2643   Vinho Tinto       Bebidas  Kappa Bebidas           1.45\n",
              " \n",
              " [667 rows x 5 columns],\n",
              " 'Receita':             Data  Nota Fiscal  cdProduto  cdVendedor            Vendedor  \\\n",
              " 0     2019-01-01      1743090       1049         265  Tarciso Cavalcanti   \n",
              " 1     2019-01-01      1743090       1133         265  Tarciso Cavalcanti   \n",
              " 2     2019-01-01      1743090       1135         265  Tarciso Cavalcanti   \n",
              " 3     2019-01-01      1743090       1170         265  Tarciso Cavalcanti   \n",
              " 4     2019-01-01      1743090        180         265  Tarciso Cavalcanti   \n",
              " ...          ...          ...        ...         ...                 ...   \n",
              " 51894 2019-10-31      2155982        876         125          Lucas Iago   \n",
              " 51895 2019-10-31      2156884       1968         265  Tarciso Cavalcanti   \n",
              " 51896 2019-10-31      2157779       2434         669     Jakeline Soares   \n",
              " 51897 2019-10-31      2157779        559         669     Jakeline Soares   \n",
              " 51898 2019-10-31      2161895       2103         669     Jakeline Soares   \n",
              " \n",
              "             Supervisor  Quantidade  Valor Unitário  \n",
              " 0       Rafaela Coelho           9            1.64  \n",
              " 1       Rafaela Coelho          10            2.19  \n",
              " 2       Rafaela Coelho          10            2.19  \n",
              " 3       Rafaela Coelho          12            8.65  \n",
              " 4       Rafaela Coelho           2           12.32  \n",
              " ...                ...         ...             ...  \n",
              " 51894   Rafaela Coelho          48            2.23  \n",
              " 51895   Rafaela Coelho          30            6.58  \n",
              " 51896  Cristiane Alves           1           80.53  \n",
              " 51897  Cristiane Alves           1          144.84  \n",
              " 51898  Cristiane Alves           2           89.40  \n",
              " \n",
              " [51899 rows x 8 columns]}"
            ]
          },
          "metadata": {},
          "execution_count": 7
        }
      ]
    },
    {
      "cell_type": "code",
      "source": [
        "#Abrir a planilha de uma aba especifica do excel\n",
        "dados['Receita']"
      ],
      "metadata": {
        "id": "0871yY-KGFWk",
        "colab": {
          "base_uri": "https://localhost:8080/",
          "height": 679
        },
        "outputId": "bc2b886a-a441-4ae0-c4fb-cd52884926c3"
      },
      "execution_count": null,
      "outputs": [
        {
          "output_type": "execute_result",
          "data": {
            "text/plain": [
              "            Data  Nota Fiscal  cdProduto  cdVendedor            Vendedor  \\\n",
              "0     2019-01-01      1743090       1049         265  Tarciso Cavalcanti   \n",
              "1     2019-01-01      1743090       1133         265  Tarciso Cavalcanti   \n",
              "2     2019-01-01      1743090       1135         265  Tarciso Cavalcanti   \n",
              "3     2019-01-01      1743090       1170         265  Tarciso Cavalcanti   \n",
              "4     2019-01-01      1743090        180         265  Tarciso Cavalcanti   \n",
              "...          ...          ...        ...         ...                 ...   \n",
              "51894 2019-10-31      2155982        876         125          Lucas Iago   \n",
              "51895 2019-10-31      2156884       1968         265  Tarciso Cavalcanti   \n",
              "51896 2019-10-31      2157779       2434         669     Jakeline Soares   \n",
              "51897 2019-10-31      2157779        559         669     Jakeline Soares   \n",
              "51898 2019-10-31      2161895       2103         669     Jakeline Soares   \n",
              "\n",
              "            Supervisor  Quantidade  Valor Unitário  \n",
              "0       Rafaela Coelho           9            1.64  \n",
              "1       Rafaela Coelho          10            2.19  \n",
              "2       Rafaela Coelho          10            2.19  \n",
              "3       Rafaela Coelho          12            8.65  \n",
              "4       Rafaela Coelho           2           12.32  \n",
              "...                ...         ...             ...  \n",
              "51894   Rafaela Coelho          48            2.23  \n",
              "51895   Rafaela Coelho          30            6.58  \n",
              "51896  Cristiane Alves           1           80.53  \n",
              "51897  Cristiane Alves           1          144.84  \n",
              "51898  Cristiane Alves           2           89.40  \n",
              "\n",
              "[51899 rows x 8 columns]"
            ],
            "text/html": [
              "\n",
              "  <div id=\"df-6dc1db92-8d00-41c3-a46d-bcc07f9f549b\">\n",
              "    <div class=\"colab-df-container\">\n",
              "      <div>\n",
              "<style scoped>\n",
              "    .dataframe tbody tr th:only-of-type {\n",
              "        vertical-align: middle;\n",
              "    }\n",
              "\n",
              "    .dataframe tbody tr th {\n",
              "        vertical-align: top;\n",
              "    }\n",
              "\n",
              "    .dataframe thead th {\n",
              "        text-align: right;\n",
              "    }\n",
              "</style>\n",
              "<table border=\"1\" class=\"dataframe\">\n",
              "  <thead>\n",
              "    <tr style=\"text-align: right;\">\n",
              "      <th></th>\n",
              "      <th>Data</th>\n",
              "      <th>Nota Fiscal</th>\n",
              "      <th>cdProduto</th>\n",
              "      <th>cdVendedor</th>\n",
              "      <th>Vendedor</th>\n",
              "      <th>Supervisor</th>\n",
              "      <th>Quantidade</th>\n",
              "      <th>Valor Unitário</th>\n",
              "    </tr>\n",
              "  </thead>\n",
              "  <tbody>\n",
              "    <tr>\n",
              "      <th>0</th>\n",
              "      <td>2019-01-01</td>\n",
              "      <td>1743090</td>\n",
              "      <td>1049</td>\n",
              "      <td>265</td>\n",
              "      <td>Tarciso Cavalcanti</td>\n",
              "      <td>Rafaela Coelho</td>\n",
              "      <td>9</td>\n",
              "      <td>1.64</td>\n",
              "    </tr>\n",
              "    <tr>\n",
              "      <th>1</th>\n",
              "      <td>2019-01-01</td>\n",
              "      <td>1743090</td>\n",
              "      <td>1133</td>\n",
              "      <td>265</td>\n",
              "      <td>Tarciso Cavalcanti</td>\n",
              "      <td>Rafaela Coelho</td>\n",
              "      <td>10</td>\n",
              "      <td>2.19</td>\n",
              "    </tr>\n",
              "    <tr>\n",
              "      <th>2</th>\n",
              "      <td>2019-01-01</td>\n",
              "      <td>1743090</td>\n",
              "      <td>1135</td>\n",
              "      <td>265</td>\n",
              "      <td>Tarciso Cavalcanti</td>\n",
              "      <td>Rafaela Coelho</td>\n",
              "      <td>10</td>\n",
              "      <td>2.19</td>\n",
              "    </tr>\n",
              "    <tr>\n",
              "      <th>3</th>\n",
              "      <td>2019-01-01</td>\n",
              "      <td>1743090</td>\n",
              "      <td>1170</td>\n",
              "      <td>265</td>\n",
              "      <td>Tarciso Cavalcanti</td>\n",
              "      <td>Rafaela Coelho</td>\n",
              "      <td>12</td>\n",
              "      <td>8.65</td>\n",
              "    </tr>\n",
              "    <tr>\n",
              "      <th>4</th>\n",
              "      <td>2019-01-01</td>\n",
              "      <td>1743090</td>\n",
              "      <td>180</td>\n",
              "      <td>265</td>\n",
              "      <td>Tarciso Cavalcanti</td>\n",
              "      <td>Rafaela Coelho</td>\n",
              "      <td>2</td>\n",
              "      <td>12.32</td>\n",
              "    </tr>\n",
              "    <tr>\n",
              "      <th>...</th>\n",
              "      <td>...</td>\n",
              "      <td>...</td>\n",
              "      <td>...</td>\n",
              "      <td>...</td>\n",
              "      <td>...</td>\n",
              "      <td>...</td>\n",
              "      <td>...</td>\n",
              "      <td>...</td>\n",
              "    </tr>\n",
              "    <tr>\n",
              "      <th>51894</th>\n",
              "      <td>2019-10-31</td>\n",
              "      <td>2155982</td>\n",
              "      <td>876</td>\n",
              "      <td>125</td>\n",
              "      <td>Lucas Iago</td>\n",
              "      <td>Rafaela Coelho</td>\n",
              "      <td>48</td>\n",
              "      <td>2.23</td>\n",
              "    </tr>\n",
              "    <tr>\n",
              "      <th>51895</th>\n",
              "      <td>2019-10-31</td>\n",
              "      <td>2156884</td>\n",
              "      <td>1968</td>\n",
              "      <td>265</td>\n",
              "      <td>Tarciso Cavalcanti</td>\n",
              "      <td>Rafaela Coelho</td>\n",
              "      <td>30</td>\n",
              "      <td>6.58</td>\n",
              "    </tr>\n",
              "    <tr>\n",
              "      <th>51896</th>\n",
              "      <td>2019-10-31</td>\n",
              "      <td>2157779</td>\n",
              "      <td>2434</td>\n",
              "      <td>669</td>\n",
              "      <td>Jakeline Soares</td>\n",
              "      <td>Cristiane Alves</td>\n",
              "      <td>1</td>\n",
              "      <td>80.53</td>\n",
              "    </tr>\n",
              "    <tr>\n",
              "      <th>51897</th>\n",
              "      <td>2019-10-31</td>\n",
              "      <td>2157779</td>\n",
              "      <td>559</td>\n",
              "      <td>669</td>\n",
              "      <td>Jakeline Soares</td>\n",
              "      <td>Cristiane Alves</td>\n",
              "      <td>1</td>\n",
              "      <td>144.84</td>\n",
              "    </tr>\n",
              "    <tr>\n",
              "      <th>51898</th>\n",
              "      <td>2019-10-31</td>\n",
              "      <td>2161895</td>\n",
              "      <td>2103</td>\n",
              "      <td>669</td>\n",
              "      <td>Jakeline Soares</td>\n",
              "      <td>Cristiane Alves</td>\n",
              "      <td>2</td>\n",
              "      <td>89.40</td>\n",
              "    </tr>\n",
              "  </tbody>\n",
              "</table>\n",
              "<p>51899 rows × 8 columns</p>\n",
              "</div>\n",
              "      <button class=\"colab-df-convert\" onclick=\"convertToInteractive('df-6dc1db92-8d00-41c3-a46d-bcc07f9f549b')\"\n",
              "              title=\"Convert this dataframe to an interactive table.\"\n",
              "              style=\"display:none;\">\n",
              "        \n",
              "  <svg xmlns=\"http://www.w3.org/2000/svg\" height=\"24px\"viewBox=\"0 0 24 24\"\n",
              "       width=\"24px\">\n",
              "    <path d=\"M0 0h24v24H0V0z\" fill=\"none\"/>\n",
              "    <path d=\"M18.56 5.44l.94 2.06.94-2.06 2.06-.94-2.06-.94-.94-2.06-.94 2.06-2.06.94zm-11 1L8.5 8.5l.94-2.06 2.06-.94-2.06-.94L8.5 2.5l-.94 2.06-2.06.94zm10 10l.94 2.06.94-2.06 2.06-.94-2.06-.94-.94-2.06-.94 2.06-2.06.94z\"/><path d=\"M17.41 7.96l-1.37-1.37c-.4-.4-.92-.59-1.43-.59-.52 0-1.04.2-1.43.59L10.3 9.45l-7.72 7.72c-.78.78-.78 2.05 0 2.83L4 21.41c.39.39.9.59 1.41.59.51 0 1.02-.2 1.41-.59l7.78-7.78 2.81-2.81c.8-.78.8-2.07 0-2.86zM5.41 20L4 18.59l7.72-7.72 1.47 1.35L5.41 20z\"/>\n",
              "  </svg>\n",
              "      </button>\n",
              "      \n",
              "  <style>\n",
              "    .colab-df-container {\n",
              "      display:flex;\n",
              "      flex-wrap:wrap;\n",
              "      gap: 12px;\n",
              "    }\n",
              "\n",
              "    .colab-df-convert {\n",
              "      background-color: #E8F0FE;\n",
              "      border: none;\n",
              "      border-radius: 50%;\n",
              "      cursor: pointer;\n",
              "      display: none;\n",
              "      fill: #1967D2;\n",
              "      height: 32px;\n",
              "      padding: 0 0 0 0;\n",
              "      width: 32px;\n",
              "    }\n",
              "\n",
              "    .colab-df-convert:hover {\n",
              "      background-color: #E2EBFA;\n",
              "      box-shadow: 0px 1px 2px rgba(60, 64, 67, 0.3), 0px 1px 3px 1px rgba(60, 64, 67, 0.15);\n",
              "      fill: #174EA6;\n",
              "    }\n",
              "\n",
              "    [theme=dark] .colab-df-convert {\n",
              "      background-color: #3B4455;\n",
              "      fill: #D2E3FC;\n",
              "    }\n",
              "\n",
              "    [theme=dark] .colab-df-convert:hover {\n",
              "      background-color: #434B5C;\n",
              "      box-shadow: 0px 1px 3px 1px rgba(0, 0, 0, 0.15);\n",
              "      filter: drop-shadow(0px 1px 2px rgba(0, 0, 0, 0.3));\n",
              "      fill: #FFFFFF;\n",
              "    }\n",
              "  </style>\n",
              "\n",
              "      <script>\n",
              "        const buttonEl =\n",
              "          document.querySelector('#df-6dc1db92-8d00-41c3-a46d-bcc07f9f549b button.colab-df-convert');\n",
              "        buttonEl.style.display =\n",
              "          google.colab.kernel.accessAllowed ? 'block' : 'none';\n",
              "\n",
              "        async function convertToInteractive(key) {\n",
              "          const element = document.querySelector('#df-6dc1db92-8d00-41c3-a46d-bcc07f9f549b');\n",
              "          const dataTable =\n",
              "            await google.colab.kernel.invokeFunction('convertToInteractive',\n",
              "                                                     [key], {});\n",
              "          if (!dataTable) return;\n",
              "\n",
              "          const docLinkHtml = 'Like what you see? Visit the ' +\n",
              "            '<a target=\"_blank\" href=https://colab.research.google.com/notebooks/data_table.ipynb>data table notebook</a>'\n",
              "            + ' to learn more about interactive tables.';\n",
              "          element.innerHTML = '';\n",
              "          dataTable['output_type'] = 'display_data';\n",
              "          await google.colab.output.renderOutput(dataTable, element);\n",
              "          const docLink = document.createElement('div');\n",
              "          docLink.innerHTML = docLinkHtml;\n",
              "          element.appendChild(docLink);\n",
              "        }\n",
              "      </script>\n",
              "    </div>\n",
              "  </div>\n",
              "  "
            ]
          },
          "metadata": {},
          "execution_count": 10
        }
      ]
    },
    {
      "cell_type": "code",
      "source": [
        "#Conferir os nomes das planilhas do arquivo excel\n",
        "dados.keys()"
      ],
      "metadata": {
        "id": "xV0fsfeiGhWq",
        "colab": {
          "base_uri": "https://localhost:8080/"
        },
        "outputId": "2ccdc059-d926-4404-f1e3-7a33eb6e05ce"
      },
      "execution_count": null,
      "outputs": [
        {
          "output_type": "execute_result",
          "data": {
            "text/plain": [
              "dict_keys(['Receita', 'Cadastro de Produtos'])"
            ]
          },
          "metadata": {},
          "execution_count": 11
        }
      ]
    },
    {
      "cell_type": "code",
      "source": [
        "#Acessar uma coluna dentro da planilha\n",
        "dados['Receita']['Valor Unitário']"
      ],
      "metadata": {
        "id": "-EFXYQMNGjoj",
        "colab": {
          "base_uri": "https://localhost:8080/"
        },
        "outputId": "56822406-c8f2-4ba9-d241-e7c7ccbd2d29"
      },
      "execution_count": null,
      "outputs": [
        {
          "output_type": "execute_result",
          "data": {
            "text/plain": [
              "0          1.64\n",
              "1          2.19\n",
              "2          2.19\n",
              "3          8.65\n",
              "4         12.32\n",
              "          ...  \n",
              "51894      2.23\n",
              "51895      6.58\n",
              "51896     80.53\n",
              "51897    144.84\n",
              "51898     89.40\n",
              "Name: Valor Unitário, Length: 51899, dtype: float64"
            ]
          },
          "metadata": {},
          "execution_count": 14
        }
      ]
    },
    {
      "cell_type": "code",
      "source": [
        "#Média dos dados da coluna selecionada\n",
        "dados['Receita']['Valor Unitário'].mean()"
      ],
      "metadata": {
        "id": "Ubff_3jRIR0x",
        "colab": {
          "base_uri": "https://localhost:8080/"
        },
        "outputId": "f4e03947-b703-42b7-b835-ce37ec35922a"
      },
      "execution_count": null,
      "outputs": [
        {
          "output_type": "execute_result",
          "data": {
            "text/plain": [
              "10.153159020405027"
            ]
          },
          "metadata": {},
          "execution_count": 15
        }
      ]
    },
    {
      "cell_type": "code",
      "source": [
        "#Desvio padrão dos dados da coluna selecionada\n",
        "dados['Receita']['Valor Unitário'].std()"
      ],
      "metadata": {
        "id": "3M3eBYZhIl7o",
        "colab": {
          "base_uri": "https://localhost:8080/"
        },
        "outputId": "be433b09-3227-4ab6-94f3-97b4981bb0e9"
      },
      "execution_count": null,
      "outputs": [
        {
          "output_type": "execute_result",
          "data": {
            "text/plain": [
              "21.14909474077883"
            ]
          },
          "metadata": {},
          "execution_count": 16
        }
      ]
    },
    {
      "cell_type": "code",
      "source": [
        "#Soma dos dados da coluna selecionada\n",
        "dados['Receita']['Valor Unitário'].sum()"
      ],
      "metadata": {
        "id": "t2CqSVdOKg8e",
        "colab": {
          "base_uri": "https://localhost:8080/"
        },
        "outputId": "cda95b89-a607-41a9-cf71-1254a3744b03"
      },
      "execution_count": null,
      "outputs": [
        {
          "output_type": "execute_result",
          "data": {
            "text/plain": [
              "526938.8"
            ]
          },
          "metadata": {},
          "execution_count": 17
        }
      ]
    },
    {
      "cell_type": "code",
      "source": [
        "#Criar a variavel com a planilha que desejo trabalhar\n",
        "receita = dados['Receita']"
      ],
      "metadata": {
        "id": "O0ZbH-WdSx3d"
      },
      "execution_count": null,
      "outputs": []
    },
    {
      "cell_type": "code",
      "source": [
        "#Fazer um gráfico\n",
        "receita.plot('Data','Valor Unitário')"
      ],
      "metadata": {
        "id": "l_M9_FjHNIit",
        "colab": {
          "base_uri": "https://localhost:8080/",
          "height": 294
        },
        "outputId": "3d13f604-e700-4cf9-c580-b2e447ad60c0"
      },
      "execution_count": null,
      "outputs": [
        {
          "output_type": "execute_result",
          "data": {
            "text/plain": [
              "<matplotlib.axes._subplots.AxesSubplot at 0x7f81421f6a90>"
            ]
          },
          "metadata": {},
          "execution_count": 19
        },
        {
          "output_type": "display_data",
          "data": {
            "text/plain": [
              "<Figure size 432x288 with 1 Axes>"
            ],
            "image/png": "[encoded data removed]"
          },
          "metadata": {
            "needs_background": "light"
          }
        }
      ]
    },
    {
      "cell_type": "code",
      "source": [
        "#Informações sobre a planilha\n",
        "receita.info()"
      ],
      "metadata": {
        "id": "kLufHWNSK7LB",
        "colab": {
          "base_uri": "https://localhost:8080/"
        },
        "outputId": "5ce344ec-4ce2-4122-f2e9-d4accecc8557"
      },
      "execution_count": null,
      "outputs": [
        {
          "output_type": "stream",
          "name": "stdout",
          "text": [
            "<class 'pandas.core.frame.DataFrame'>\n",
            "RangeIndex: 51899 entries, 0 to 51898\n",
            "Data columns (total 8 columns):\n",
            " #   Column          Non-Null Count  Dtype         \n",
            "---  ------          --------------  -----         \n",
            " 0   Data            51899 non-null  datetime64[ns]\n",
            " 1   Nota Fiscal     51899 non-null  int64         \n",
            " 2   cdProduto       51899 non-null  int64         \n",
            " 3   cdVendedor      51899 non-null  int64         \n",
            " 4   Vendedor        51899 non-null  object        \n",
            " 5   Supervisor      51899 non-null  object        \n",
            " 6   Quantidade      51899 non-null  int64         \n",
            " 7   Valor Unitário  51899 non-null  float64       \n",
            "dtypes: datetime64[ns](1), float64(1), int64(4), object(2)\n",
            "memory usage: 3.2+ MB\n"
          ]
        }
      ]
    },
    {
      "cell_type": "code",
      "source": [
        "#Verificar quais são as variaveis unicas de uma coluna\n",
        "receita['Vendedor'].unique()"
      ],
      "metadata": {
        "id": "jyLGSIUiM1MV",
        "colab": {
          "base_uri": "https://localhost:8080/"
        },
        "outputId": "b0c336b0-76e9-47df-a96a-07037e0d02a8"
      },
      "execution_count": null,
      "outputs": [
        {
          "output_type": "execute_result",
          "data": {
            "text/plain": [
              "array(['Tarciso Cavalcanti', 'Lucas Iago', 'Jakeline Soares',\n",
              "       'Mariano Rodrigues'], dtype=object)"
            ]
          },
          "metadata": {},
          "execution_count": 21
        }
      ]
    },
    {
      "cell_type": "code",
      "source": [
        "#Fazer o filtro de alguma variável\n",
        "receita.query('Vendedor == \"Mariano Rodrigues\"')['Quantidade'].sum()"
      ],
      "metadata": {
        "id": "vSUXmgbZL9V8",
        "colab": {
          "base_uri": "https://localhost:8080/"
        },
        "outputId": "e54037c8-cfab-47dd-8bb7-784cc08067f9"
      },
      "execution_count": null,
      "outputs": [
        {
          "output_type": "execute_result",
          "data": {
            "text/plain": [
              "101122"
            ]
          },
          "metadata": {},
          "execution_count": 22
        }
      ]
    },
    {
      "cell_type": "code",
      "source": [
        "#Criar variavel com a planilha que quero trabalhar\n",
        "receita['Resultado Total'] = receita['Quantidade'] * receita['Valor Unitário']"
      ],
      "metadata": {
        "id": "o9DcjSKwKj1n"
      },
      "execution_count": null,
      "outputs": []
    },
    {
      "cell_type": "code",
      "source": [
        "receita.info()"
      ],
      "metadata": {
        "colab": {
          "base_uri": "https://localhost:8080/"
        },
        "id": "cGvRgRD7mUjd",
        "outputId": "4b483fde-087d-4975-f7e4-f7e9902a2881"
      },
      "execution_count": null,
      "outputs": [
        {
          "output_type": "stream",
          "name": "stdout",
          "text": [
            "<class 'pandas.core.frame.DataFrame'>\n",
            "RangeIndex: 51899 entries, 0 to 51898\n",
            "Data columns (total 9 columns):\n",
            " #   Column           Non-Null Count  Dtype         \n",
            "---  ------           --------------  -----         \n",
            " 0   Data             51899 non-null  datetime64[ns]\n",
            " 1   Nota Fiscal      51899 non-null  int64         \n",
            " 2   cdProduto        51899 non-null  int64         \n",
            " 3   cdVendedor       51899 non-null  int64         \n",
            " 4   Vendedor         51899 non-null  object        \n",
            " 5   Supervisor       51899 non-null  object        \n",
            " 6   Quantidade       51899 non-null  int64         \n",
            " 7   Valor Unitário   51899 non-null  float64       \n",
            " 8   Resultado Total  51899 non-null  float64       \n",
            "dtypes: datetime64[ns](1), float64(2), int64(4), object(2)\n",
            "memory usage: 3.6+ MB\n"
          ]
        }
      ]
    },
    {
      "cell_type": "code",
      "source": [
        "receita.query('Vendedor == \"Mariano Rodrigues\"')['Resultado Total'].sum()"
      ],
      "metadata": {
        "id": "tbLleoVvTLEH",
        "colab": {
          "base_uri": "https://localhost:8080/"
        },
        "outputId": "2281d6d6-6665-4867-faa3-82527a4c8f26"
      },
      "execution_count": null,
      "outputs": [
        {
          "output_type": "execute_result",
          "data": {
            "text/plain": [
              "228496.64"
            ]
          },
          "metadata": {},
          "execution_count": 25
        }
      ]
    },
    {
      "cell_type": "code",
      "source": [
        "receita.query('Vendedor == \"Lucas Iago\"')['Resultado Total'].sum()"
      ],
      "metadata": {
        "id": "xzCHHOpuTiD9",
        "colab": {
          "base_uri": "https://localhost:8080/"
        },
        "outputId": "3d44772a-c004-435f-aedc-e5a97a708861"
      },
      "execution_count": null,
      "outputs": [
        {
          "output_type": "execute_result",
          "data": {
            "text/plain": [
              "1214499.51"
            ]
          },
          "metadata": {},
          "execution_count": 26
        }
      ]
    },
    {
      "cell_type": "code",
      "source": [
        ""
      ],
      "metadata": {
        "id": "qaI-R3cXFaJe"
      },
      "execution_count": null,
      "outputs": []
    }
  ]
}