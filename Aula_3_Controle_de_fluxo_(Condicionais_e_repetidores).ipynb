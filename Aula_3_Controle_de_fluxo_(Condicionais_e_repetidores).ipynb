{
  "nbformat": 4,
  "nbformat_minor": 0,
  "metadata": {
    "colab": {
      "name": "Aula 3 - Controle de fluxo (Condicionais e repetidores).ipynb",
      "provenance": [],
      "collapsed_sections": [
        "kI_Zu8Om52U0",
        "sSFt38Rg_wh0",
        "euNK0BdM_z23"
      ],
      "authorship_tag": "ABX9TyNBb3NUiz6fvIPzYPtbIOj7",
      "include_colab_link": true
    },
    "kernelspec": {
      "name": "python3",
      "display_name": "Python 3"
    },
    "language_info": {
      "name": "python"
    }
  },
  "cells": [
    {
      "cell_type": "markdown",
      "metadata": {
        "id": "view-in-github",
        "colab_type": "text"
      },
      "source": [
        "<a href=\"https://colab.research.google.com/github/wertonr/UFPB/blob/main/Aula_3_Controle_de_fluxo_(Condicionais_e_repetidores).ipynb\" target=\"_parent\"><img src=\"https://colab.research.google.com/assets/colab-badge.svg\" alt=\"Open In Colab\"/></a>"
      ]
    },
    {
      "cell_type": "markdown",
      "source": [
        "# Aula 3 - Controle de fluxo\n",
        "Nesta aula veremos:\n",
        "- Receber uma informação do usuário\n",
        "- Operadores booleanos\n",
        "- Estruturas condicionais (IF, ELIF, ELSE)\n",
        "- Repetidores/laços (WHILE, FOR)\n"
      ],
      "metadata": {
        "id": "nprRQyre4yeC"
      }
    },
    {
      "cell_type": "markdown",
      "source": [
        "## Receber informação (INPUT)\n"
      ],
      "metadata": {
        "id": "uzMqacOQ5B-K"
      }
    },
    {
      "cell_type": "code",
      "execution_count": null,
      "metadata": {
        "id": "h8NkeVHn4tyy",
        "colab": {
          "base_uri": "https://localhost:8080/"
        },
        "outputId": "ce8db14e-4a63-496f-864d-00efd504f93b"
      },
      "outputs": [
        {
          "name": "stdout",
          "output_type": "stream",
          "text": [
            "Qual o seu nome? Werton\n"
          ]
        }
      ],
      "source": [
        "# comando para pedir ao usuário para fornecer uma informação, usar input e salvar essa informação em alguma variável.\n",
        "nome = input(\"Qual o seu nome? \") #atribui a resposta do usuário a variavel nome\n",
        "\n",
        "\n"
      ]
    },
    {
      "cell_type": "code",
      "source": [
        "x = input(\"Digite um número: \")\n",
        "y = input(\"Digite novamente um número: \")\n",
        "\n",
        "print(\"A soma entre os dois números digitados será: \", x + y)"
      ],
      "metadata": {
        "id": "fiLu-MmZ59io",
        "colab": {
          "base_uri": "https://localhost:8080/"
        },
        "outputId": "e82e89dc-3d4c-42e6-bd93-eee5a73b3ea3"
      },
      "execution_count": null,
      "outputs": [
        {
          "output_type": "stream",
          "name": "stdout",
          "text": [
            "Digite um número: oi\n",
            "Digite novamente um número: xau\n",
            "A soma entre os dois números digitados será:  oixau\n"
          ]
        }
      ]
    },
    {
      "cell_type": "code",
      "source": [
        "type(x)"
      ],
      "metadata": {
        "id": "cwC8saZj6aPZ",
        "colab": {
          "base_uri": "https://localhost:8080/"
        },
        "outputId": "5da161bb-28ab-49de-a13f-bf86b0fd5077"
      },
      "execution_count": null,
      "outputs": [
        {
          "output_type": "execute_result",
          "data": {
            "text/plain": [
              "str"
            ]
          },
          "metadata": {},
          "execution_count": 3
        }
      ]
    },
    {
      "cell_type": "code",
      "source": [
        "x = float(input(\"Digite um número: \"))\n",
        "y = float(input(\"Digite novamente um número: \"))\n",
        "\n",
        "print(\"A soma entre os dois números digitados será: \", x + y)"
      ],
      "metadata": {
        "id": "vW_KYe776cxQ"
      },
      "execution_count": null,
      "outputs": []
    },
    {
      "cell_type": "code",
      "source": [
        "# Atividade 1: Calcule o IMC do usuário \n",
        "\n"
      ],
      "metadata": {
        "id": "aoByvspsFWEQ"
      },
      "execution_count": null,
      "outputs": []
    },
    {
      "cell_type": "markdown",
      "source": [
        ""
      ],
      "metadata": {
        "id": "N_MLBUJH614W"
      }
    },
    {
      "cell_type": "markdown",
      "source": [
        "## Operadores booleanos"
      ],
      "metadata": {
        "id": "kI_Zu8Om52U0"
      }
    },
    {
      "cell_type": "code",
      "source": [
        "x = 2\n",
        "y = 5\n",
        "\n",
        "print(x < y) #posso usar apenas o sinal de maior ou menor\n",
        "print(x >= y) #como posso também usar maior ou igual, menor ou igual\n",
        "print(\"banana\"==\"maça\") #posso comparar string, para saber se são iguais (==)\n",
        "print(\"banana\"!=\"maça\") #posso comparar string, para saber se são diferentes (!=)\n"
      ],
      "metadata": {
        "id": "gSVDQZF7547P",
        "colab": {
          "base_uri": "https://localhost:8080/"
        },
        "outputId": "9e911c84-1ad4-44e2-bbe6-a974f234b7fe"
      },
      "execution_count": 1,
      "outputs": [
        {
          "output_type": "stream",
          "name": "stdout",
          "text": [
            "True\n",
            "False\n",
            "False\n",
            "True\n"
          ]
        }
      ]
    },
    {
      "cell_type": "markdown",
      "source": [
        "![operadores.png](data:image/png;base64,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)\n"
      ],
      "metadata": {
        "id": "pA0ZdnHkXZez"
      }
    },
    {
      "cell_type": "markdown",
      "source": [
        "##Estruturas condicionais \n",
        "\n",
        "\n"
      ],
      "metadata": {
        "id": "sSFt38Rg_wh0"
      }
    },
    {
      "cell_type": "code",
      "source": [
        "# Desejo fazer um programa que me diga se o usuário é maior ou menor de idade\n",
        "\n",
        "idade = int(input(\"Qual a sua idade? \")) #Peço a informação da idade do usuário\n",
        "\n",
        "if idade < 18: #Leia da seguinte forma: SE(if) a CONDIÇÂO(idade < 18) ENTÂO(:)\n",
        "  print(\"Usuário é menor de idade.\") #cuidado com a indentação/recuo, tem que ter esse espaço para o python entender que o comando só será executado dentro do if\n",
        "else: #Leia da seguinte forma: SENÂO/DO CONTRÁRIO(else) ENTÃO(:) \n",
        "  print(\"Usuário é maior de idade\")\n",
        "  "
      ],
      "metadata": {
        "id": "Mlq51Rn5_y5q",
        "colab": {
          "base_uri": "https://localhost:8080/"
        },
        "outputId": "498e4f2f-2b2e-434c-bf99-83834944e4df"
      },
      "execution_count": null,
      "outputs": [
        {
          "output_type": "stream",
          "name": "stdout",
          "text": [
            "Qual a sua idade? 17\n",
            "Usuário é menor de idade.\n",
            "Esqueci do recuo\n"
          ]
        }
      ]
    },
    {
      "cell_type": "code",
      "source": [
        "#Atividade 2: Solicite as três notas do usuário e informe se ele foi aprovado(maior igual a 7) ou reprovado(menor que 7) \n",
        "nota1 = float(input(\"Nota da primeira unidade: \"))\n",
        "nota2 = float(input(\"Nota da segunda unidade: \"))\n",
        "nota3 = float(input(\"Nota da terceira unidade: \"))\n",
        "media = (nota1 + nota2 + nota3)/3\n",
        "print(media)\n",
        "\n",
        "if media >= 7:\n",
        "  print(\"Parabéns, você foi aprovado!\")\n",
        "else:\n",
        "  print(\"Infelizmente, não foi dessa vez.\")\n",
        "\n"
      ],
      "metadata": {
        "id": "cuZX8X0HFCbk",
        "colab": {
          "base_uri": "https://localhost:8080/"
        },
        "outputId": "8169261e-533a-414b-d4b8-12980823e227"
      },
      "execution_count": null,
      "outputs": [
        {
          "output_type": "stream",
          "name": "stdout",
          "text": [
            "Nota da primeira unidade: 5\n",
            "Nota da segunda unidade: 4\n",
            "Nota da terceira unidade: 2.5\n",
            "3.8333333333333335\n",
            "Infelizmente, não foi dessa vez.\n"
          ]
        }
      ]
    },
    {
      "cell_type": "code",
      "source": [
        "#Também sabemos que na UFPB tem o terceiro caso, recuperação/Prova final para quem tirou entre 4 e 7, como ficaria nesse caso?\n",
        "\n",
        "nota1 = float(input(\"Nota da primeira unidade: \"))\n",
        "nota2 = float(input(\"Nota da segunda unidade: \"))\n",
        "nota3 = float(input(\"Nota da terceira unidade: \"))\n",
        "media = (nota1 + nota2 + nota3)/3\n",
        "print(media)\n",
        "\n",
        "if media >= 7:\n",
        "  if frequencia > 0.7:\n",
        "    print(\"Parabéns, você foi aprovado!\")\n",
        "  elif frequencia < 0.7:\n",
        "    print(\"Infelizmente, você foi aprovado por média mas reprovado por falta\")\n",
        "elif media >= 4 and media < 7: \n",
        "  print(\"Quase lá, você vai para recuperação..\")\n",
        "else:\n",
        "  print(\"Infelizmente, não foi dessa vez.\")"
      ],
      "metadata": {
        "id": "PGeXRqksGH0y",
        "colab": {
          "base_uri": "https://localhost:8080/"
        },
        "outputId": "a5df71ed-14a5-472c-c688-2fea7142c816"
      },
      "execution_count": null,
      "outputs": [
        {
          "output_type": "stream",
          "name": "stdout",
          "text": [
            "Nota da primeira unidade: 4\n",
            "Nota da segunda unidade: 7\n",
            "Nota da terceira unidade: 5\n",
            "5.333333333333333\n",
            "Quase lá, você vai para recuperação..\n"
          ]
        }
      ]
    },
    {
      "cell_type": "code",
      "source": [
        "#Também sabemos que além da nota, o aluno tem que ter uma frequência mínima nas aulas...Nesse caso, como poderiamos fazer?\n"
      ],
      "metadata": {
        "id": "Ofg6isc3HNH5"
      },
      "execution_count": null,
      "outputs": []
    },
    {
      "cell_type": "markdown",
      "source": [
        "![expressões lógicas.png](data:image/png;base64,iVBORw0KGgoAAAANSUhEUgAAAZwAAAB6CAMAAAC89RUgAAACSVBMVEX////q6ur//8wAAADw8PD//8r//+7//9n//87//9L//9D//8///9T///3//9b/8thlQQAdAADR8///9NRYNwD///Muaa4AAEFJiKf//77u3sddOwDh4eF/ZDQYAADcuZ3Hx8dUIA3Mm3/r8vDy4MNRMgDU1NR2dl4AABsAOnSUeDYAADU0AAD/65IAAA3u+f8AOmJDfZkuTZHkxo/A3/LZtXD//+Hl/M70/9IAACJiRw4tAACHVzc7iK0ALU6BnNh6Xz8AAFhoptBMKxYAUoX/+LAAAErh9PwAACsAADcAACnKyqIPAAAxMSekwbwAAAr00nhRAABLZ3O2qZ4AAG0AM2FRKACYmJkGO1TU/f9BAAC9hmDm0amUt+nDhVG57f/37bOsm3GZqpjez492blhrcHSjzbjJrnOpiGQAEzBlsK1RY1FCJgAoQEO12sTRuXE7UVrX17TO6ck3FgA9dHx+inb34Zfa1qKovqp8j5SMg2aBrLTBhTna7csdKxZ8SxoAFQBuNABhj5a/mloAFyZ0m5QbMgysjTsbST8aUWag28rYuWCorYYdUVipiVMqJRttPhzI9NRZl5oeeYkxS2olEgCktpm1ghNxl6k9YYmx1K+RTQADbIQ6XF6mZCiVZhfUxHQLHSEsJAwpMT07Qj9aRzBtFADwxZOaz/RNeKaxx9Gylnx0PRUAIXjco3OAenRNSyRLfbSTn6oAK3FyUkp1jrOMssuYb0ZRSVsAYpl1sNOtdFxDX3zPwLOel6tycYSHLQCTy/lvcUlTjjvBAAAPyElEQVR4nO2djV9T5xXHk5wbTG4SY4IZmgaiJAYcmOAIAkWpViCoRHwZ72mLLxhY0SoWVFrW+Tan3UA3OqWuda1YBWbZaiG1hc7tL9s5z72E0IHcCBRInt+n5T734bknued7n3PODfG5KhUXFxcXF9dKl2lNEmrHcntdoUza5JPGuNxeVyiTVpN00q1dbq8rFIezgsXhrGBNw9HpUWI8JykqH66XpZvfpG7eQQvV6oMjNh/Lyso6XqTcM+KJky1FyoZuJNuok6debl4bPtmpbZ1n0IK1+uAUAFPbQeWz4T3YV6hs6MZ0yTr85qV+N5TDu+0AHI4sGY74HsDpzj8e2wveMxoDxpapkCVKoQ678D8Nduv1Brnf+B6kFU4PwbComytuIZyzB0g9Br1eIwdEUa8zyIHUIJvVnhO1zdLkFeOMsYkLR1f+EZzu0IvGrvPwflF5VmfhsazODoPGoA13Y6jTGLqyOi90d3aw8HQRnaY7gf3vVSEcgza/G8eKOvzdp8eyLs5KB+EcWSuiDOVZWWc0mnDWJVEbzjrVzKxjSO3OYg0Dmu1mDXrhzp6lwbPK4Ij5ufABXbrGD6GiZxvAbzEEZZ8SkRmqtEd/CH6HIa/jMotNV0TdVdpeQziGZjYErhvLX4PfzxW3CE6hTqcTxW3gPajT3IBn+o2/hD/QkUeKxIIMatws1DKzUFNkaF4nWdVzOAjHAreoof8YijsQTn1H820oLfqQGh/B+8ZD2PXH4yeCp89o34Y/FdIE6znRiGFNewOKLzb3Isny1+FaZ3fPrO5AONXBYLDvetG2qmwGZyvByT6OR7adKa8laxY42Jzed1FTUAK3tL+Ea2R1/5Kkn9UGJ5wRhZPdQVe3qMfL+dPbcKnoXDhjT9Eh9L5e1GvF5gPp8KeegqrqO7q1NxDOxq/gz3pR+wL+gnAwdM3ujqmC4P2ZcPqL9Nsg5wy+0h2dGDpQhHFPe6H3E7jVfBh+oxc3Xoa/LEVgW21wYsJaGoa14oMacdsn3r9ukYusO4fQhxrdxl4LwJcIJww5hVStpRWWW7x4dRvvwlaEc88whzsorK0xGo0Y1mLhDFCYQzhQjIUFViHaE1ir9QHc6rJkf4pz5i6UcThYw65Hl2NB1lULN4u2QfZBg9hlqWYz58KFc+cw57RhHr+KwaboYzZzvHc0xo8JDl7jos5wH/6GcD6YKwgRHHZLxOAYfgqnCu7g9XGg6ERj9fWerna4Vd4Ip5DVfT5zGB1MxZ/99UL4dbzLwFBDyTmCs+NzbKy9OngFc07pGR0Foh2Uc3q6LHBlLaYKzDkPoLRDh4X4dUVwDOUZcGVN1+YZcLpKyNph+PPf8SXXYJC7tfEBJjtNGLw855DkQgmyr5PDoIrdMerRi6RTRjZzdHij+kUGVQu6XlatZaQVijjXWAVXpAiORvM5jf5iBhxReu36jq5G8H6JrYMiVhysWlP4CUSCw8F4vzsYHGw5Z8DQgwVYJDhItyzN2PnZRVE81He2gwg+CrYcuP3wDN6GBINXQntrCuljHzzuYpGhPL3vJXCC8ic9hubW4ODxcN+AfmNvcLto6Ooja/mYa6704Ht4FBz8NBK8bpiyuhRsVh8cuiWnjK3TMDgHjUZ2y27QSw3RyO44aA+bNIiyO+ucGqIzGueOQXrjVPLA4Xo8UpT7DMyGMZxVQrNEJFN6o2HaKoczUwzO0rhlLjWfu7DupsLP6Rau1Q0n4+HPC0d79QsWNn8mrWY4UzHsZxTFsKX+K860VjWcRBeHs4LF4axgrSI4SajV8r01VUoSyrbcTufi4uLi4kpKmdQC2woO34xe11zDp7T0by1hZa6rG1c2sHYXbUxfVfhjelMbd80+3LZT/vN4aWChbzF55bbALxQNNK/bQJvH+2LZqGxHh2cfbtu5xyFpgW8wmeUuiQuOyeGRoptJEHwmATfyzoytiuD8evHfbLIpNS447kcA3jFMOu7bAHlZbdbUzRjW7Ni7f0ylctYCVI5JwzkchbLvrgJ4eA996rTAE+deaKM2dgNsn8yNA47b0u83OTOGfKmH8/y2Vqi3pq7fhZNvgHb+E4KBAG4lOhjWNjHxlPNSuddLqRmvfGcGfMba6MFQLvueRkYccJoo4Zia0vzO4ifYuC/B+boYe1O6hyMVCMIW2cNwRAuCN5f03Fa9rgKMeyY3w1MfzZzse56RErgZSPkHwD3P5F5QDseWXkYz7jEM99ZYyXApwTFFnrLiesd6ZuhreIc2GNZcrJL2zW2Si9K0B///B+AljXC2oxtfhzxr6BMYQMcVLABOmMGxReE8p800nCU6nQSTbXL05CcAFQzOGxiCdiMcbFJ2cMcV1ljIyszxZ6ZRQf2AwVE1pVE4a/1g5x4VBb0KOaxxOEoUOg9w7dJteeb8BE5c1VoIhgKqUGOZD2sANCYXBNiLARPeyocxCpxDbHg0rPFPCF4m0wugPH7/J3BCJRThVPmKw9p6KijavX3Qj1PDed5b9fCfCIc+N8CdPu+QyjZiwe2EVJ5FC4I0/zyGk1o7GuEpzpDNM+H4U2shx69KiSiFY/PQvb560yYPyzDYCNzNa7B5yPcO7FXFbFEmzyZZvCJ4me4DTIyW4DVsjYWDmRvgNP17NGVwZugxjGO6yv3X4r/ZZBPd1kN/J8ATzAwynBo/RSHMRfe+ehU4KTvhYbBqgN9gLlw2Ci74w69S0w8KOcPsIwIMTabJTa+SFGweHrC4uLi4uLi4uLi4uLiSU+oklDC/W1aGlttRyyEOZwWLw1nB4nBWsDichUlgP4QlMr7cTleqpTn9n8heu502tss5wzG97tztc3lfOMr+jjSMvzdbnrEvFOTDm4vFisOJlf01Budx8Xisf+2j43MdEIH+bzYhoA0utTn3VxzOUkqCIzg8ghyuSHLYktvRLTUzYYz21ekwLnA4Ss4o6jxBiHGkIhEcgb5eXTzmkhr93ZV+9/ntAtupHBeEyS0AbePSN6Ls65/Jjc0DAQ5nfjmODg4O/ptShvnbwXtHvx0ccyn3BsIR7I2l455WGHPZb7cNe3ZDvd+9BXs3l9LOk1BuP22lOOfM3SBxSEmv8HM487v3NvsiGV7javNm+EMVxOUqhONqysb0LkQq/JnVOFFSLhOcXa4m8NPsGY9U0nbnMwf5zmm5Jxl3te7jcObXOoCJulELwBMB4UBby3fD8x8UFcJJSd/qYNlkuLfGj43eUoJj2/mUecu8pQw9T6ho11kyBQdZmhs5nJcrH6AMc81IBgy5CM644IjHGwxOGcFxIpy8aTgpu5+xAeb1z6lA+FqC425/LnGwr8sLmA9vJTjCY/iew5n1bJqgmqpg9xZMFQinwh+fNyisRSoCgtqVWTzcmubH+PaAwXH9UBHA348cf/QUCbh+2McMuyLVT1gB58QU5XpR6pdm1TCHM5tcPwC7RXE/gjyC8yyueSPBccIGhzBZWxYIWbYHhJBFKgjyYQPlmLEwvInb8wPy+NqcbzwOzwjUBNRCGCY2eTxHc7fG+aJzK7Hg4MxhQcXdDjcDCCdeP9m3YCndWvVw8MvKYYE1+n6LcNq3C+pWOD1oKQvYI3B20JI3NSPtj+CLwT6YoDmDQ7zBPiiNJ8nNczrL7XSlUnY6IYAav2CLgJRz4oXjOIqeFSbr6r5xYEQzYWP4RqnVHu1VT22jgYt26+Q4xtp05GIpweCoEUs2XsoUZ14Bjjr6yQAlErrntB8ecMX2Sre2M46I2Y/znnfed7PcTlcqhefj2M0WaaePIs2H4845M2SvLT7b0l66aOk9fiUaHLVgpzjjIo9SjFmQc46ihcDysUk8ODGxZcExZpGjVPyvv9xOV6rldNJyicNZweJwVrA4nBUsDmcFi8NZweJwVrBWDRwhGbXcTufi4uLi4uLi+jkkKF6/RlrSixbMCczSO4fsC1sfR73JYfIk6wo7Jud3ilclMteyFdlTDm+NhcPWlZ5bd70Nr/jW2Gtd9l47WZmsi+l9DV7lcOTl8vOssb22yZcauLF/IXDMP6rsdXMsx5/4ehuy44QjeOQ4ho2AzeOzOWgeqeXeqS2TDUcwOCYHtqKdtOdTxZpSS6ZYj4ctCWqTx6AJR7QjURd3c7a0WO2jLZckErajo6MtdEGOPILqI/9WeNIMjnMvANAaeCFslL7bJq/xiTveIQyS5wGyx+Qc4aYR6ZUNtPQetuRHjRRkd2cATMgWJFPtAPXvllpVIfrHVm040ExH9Pvlju9VM00kmjLhWgt9t4MFMfdm9n32fqvqBW2rrfMeziStjkuL4uY+96XmDgRM0dVxq4YCqhFaHXeDTzWSIa2Oa76M8c9ZVdlgi5T6VSm9IF0YBbSA5Qi8qXJn4GB37ZAv1YKmjpGpxjIfHlbRkBLZN6xyX35qrs0LqMwf5TTYPqocV5kj1YmZfTIRwpE6enQBWzzfe2QUr8kBn/M2eFt+VFgNsXWlK4hk5j5/Zk7sutI5VpqOnp170JQpIq0r7ax6C39+XtngbhxzOBx2eT3QAviPtNBuU9owdrdWBNgS1aYH9VYbloEm4cPKBnsjrakc+tGF+cwkXAWru+QNegONibmkKMLB69l9Hp77aPH8f7FFOrPH48058y2XH7sie5jhK9jfEJKXMJYmVAH9NvW1XbbdUq/X35tHMK/iPKNwG4Q2POIt6SVNrAMa8omoynZ/IiGr6kzwYsBesxfQuS8gmyqoxwC7FhuO/CwDFifDrAQuKJ52NVMUTvpTqcPUWyPDMddWXqobvlEpH2HCEFeMHThzZDgvBhIUTjae7w6CY/oKKugcmwGex12tNbEVvPFnZmVsWKtEHCnpV1hYm3oKiDOD8veHFNZozri/lRBNwVE1Uf4zjQwEMvfJYS2cTUd8XmmVwlp+6XEG6W14R1oj2ZygKyXHwFnIzJELgpIBLAj6p5fLd9MaxqwgGMKCQI5fKZdr/EiICgKcteb0aEEgw3FXYWXgLHk+XRCEsUzARpvVFsnBgqB26wFaz9+ZAe/YIvtjTCSaYuFEc07xE4QTx01oLVYToS1Y3k1MPXkqXV4un3rZk6fOS1tpPGaVmv9WYyndSnWwfC8pwaGDyAKQKTq6/p/1VjZu4jg8kSrniQDr6D+OMY111Ccmmxlw3LXgPStVawTq7HcKS2kTux0UHNJGwIbvbl6DyeGa7o1u5QMceI9KDbXDEX2UGz3IMmrKMW2q30cHOHwm9qTLqznDbNxUB5lIyISjYgUBwWknOFP3Oez+jxrvvILBx+zRVZbFSAKP4XsKXjNN2aSHwSSFJkdb6Mldo6PsWW2mydHRS1KYsWPrVbxga7XQs8UW42K2tWb8nymnhdIX1yuKPiFbpCeAzmJK8CTtHwq4uLi4uLi4uLi4uLi4uLi4uLgSS/8DKH/8YMVJ5a4AAAAASUVORK5CYII=)"
      ],
      "metadata": {
        "id": "RhozOKgDYOLQ"
      }
    },
    {
      "cell_type": "code",
      "source": [
        "#Atividade 3: Faça um programa que veja se o usuário pode dirigir, para isso ele tem que ser maior que 18 anos, ter habilitação e não ter ingerido bebida alcoólica no dia.\n",
        "idade = float(input(\"Qual sua idade? \"))\n",
        "habilitacao = input(\"Você possui habilitação? (responda s/n) \")\n",
        "bebida = input(\"Você consumiu bebida alcoolica hoje? (responda s/n) \")\n",
        "\n",
        "if idade >=18 and habilitacao == 'sim' and bebida == 'não':\n",
        "\n",
        "\n"
      ],
      "metadata": {
        "id": "COalqZVyYu6k"
      },
      "execution_count": null,
      "outputs": []
    },
    {
      "cell_type": "markdown",
      "source": [
        "##Laços de repetição\n"
      ],
      "metadata": {
        "id": "euNK0BdM_z23"
      }
    },
    {
      "cell_type": "code",
      "source": [
        "#Executar um laço/repetição ENQUANTO uma condição não for satisfeita, WHILE\n",
        "#jogo de advinhação, ver se o usuário acerta qual número pensei entre 0 e 10\n",
        "\n",
        "numero_que_pensei = 7 \n",
        "\n",
        "numero_escolhido_usuario = int(input(\"Qual número eu pensei entre 0 e 10? \"))\n",
        "\n",
        "while numero_que_pensei != numero_escolhido_usuario: #Leia da seguinte forma: ENQUANTO (while) A CONDIÇÃO (numero_que_pensei != numero_escolhido_usuario) ENTÂO(:)\n",
        "  print(\"Você errou, tente novamente.\")\n",
        "  numero_escolhido_usuario = int(input(\"Qual número eu pensei? \")) #CUIDADO! senão tivesse essa linha o código ficaria em loop infinito.. lembre de sempre dar alguma condição para que saia do loop\n",
        "\n",
        "print(\"Parabéns, você acertou era o número 7!\")\n",
        "\n",
        "\n",
        "\n",
        "\n"
      ],
      "metadata": {
        "id": "9khQgbsn_3VC"
      },
      "execution_count": null,
      "outputs": []
    },
    {
      "cell_type": "code",
      "source": [
        "#Em alguns casos, vou querer que uma repetição ocorra n vezes, para isso utilizaremos contadores\n",
        "# Dado a atividade da lista 1, desejo imprimir 5 vezes que palmeiras não tem mundial:\n",
        "\n",
        "contador = 1\n",
        "\n",
        "while contador <= 5:\n",
        "  print(\"Palmeiras não tem mundial!\")\n",
        "  contador = contador + 1 #CUIDADO! senão tiver o contador aqui... o loop ficaria infinito!\n",
        "  contador += 1 #outra maneira que poderiamos escrever a linha acima\n",
        "\n"
      ],
      "metadata": {
        "id": "eUP_oXgyLGv6",
        "colab": {
          "base_uri": "https://localhost:8080/"
        },
        "outputId": "73631a75-10b5-4bb3-8164-4476d0d49388"
      },
      "execution_count": null,
      "outputs": [
        {
          "output_type": "stream",
          "name": "stdout",
          "text": [
            "Palmeiras não tem mundial!\n",
            "Palmeiras não tem mundial!\n",
            "Palmeiras não tem mundial!\n",
            "Palmeiras não tem mundial!\n",
            "Palmeiras não tem mundial!\n"
          ]
        }
      ]
    },
    {
      "cell_type": "code",
      "source": [
        "#Entretanto, quando queremos criar uma repetição controlada... melhor que usar while com contador, seria usar o comando for.\n",
        "#Imprima os números inteiros menores que 10\n",
        "\n",
        "\"\"\"for variavel in range(10):\n",
        "  print(variavel)\"\"\"\n",
        "\n",
        "for i in range(10): #Leia da seguinte forma: PARA(for) VARIAVEL(i) DENTRO(in) DE UMA FAIXA (range(10)) ENTÂO(:); range(10) ira imprimir enquanto o i for menor que 10.\n",
        "  print(i)\n",
        "  "
      ],
      "metadata": {
        "id": "8y4MeRdKNpfv",
        "colab": {
          "base_uri": "https://localhost:8080/"
        },
        "outputId": "fccc9f7b-3f6a-45d4-f3cf-990931b843d1"
      },
      "execution_count": null,
      "outputs": [
        {
          "output_type": "stream",
          "name": "stdout",
          "text": [
            "0\n",
            "1\n",
            "2\n",
            "3\n",
            "4\n",
            "5\n",
            "6\n",
            "7\n",
            "8\n",
            "9\n"
          ]
        }
      ]
    },
    {
      "cell_type": "code",
      "source": [
        "#Além disso, o comando range admite até três parametros, dessa maneira, posso colocar o intervalo de interesse.\n",
        "#No caso, se quero que comece em determinado número e vá até determinado número, usaria dois parametros:\n",
        "#Imprimir número começando do 3 e até menor que 9\n",
        "for i in range(2,10): #Quando tem dois parametros, ele sempre lê o primeiro como IGUAL (número que ira começar) e o segundo como MENOR QUE.\n",
        "  print(i)\n",
        "  "
      ],
      "metadata": {
        "id": "U_O8dXClPRqR",
        "colab": {
          "base_uri": "https://localhost:8080/"
        },
        "outputId": "b3a23ad8-0b07-4159-e9f7-1c1c64559895"
      },
      "execution_count": null,
      "outputs": [
        {
          "output_type": "stream",
          "name": "stdout",
          "text": [
            "2\n",
            "3\n",
            "4\n",
            "5\n",
            "6\n",
            "7\n",
            "8\n",
            "9\n"
          ]
        }
      ]
    },
    {
      "cell_type": "code",
      "source": [
        "#Por fim, o terceiro parametro aceito pelo range são os PASSOS(steps)\n",
        "#Imprimir números impar começando do 1 e até menor que 10 \n",
        "for i in range(1,10,3): #Quando tem três parametros, ele sempre lê o primeiro como IGUAL (número que ira começar), segundo como MENOR QUE e o terceiro como PASSOS(enquanto em quanto ele ira 'pular' os números).\n",
        "  print(i)"
      ],
      "metadata": {
        "id": "cLbmaqgLRACI",
        "colab": {
          "base_uri": "https://localhost:8080/"
        },
        "outputId": "5e7abcc2-9c00-4b5f-e095-8816e32a1b8e"
      },
      "execution_count": null,
      "outputs": [
        {
          "output_type": "stream",
          "name": "stdout",
          "text": [
            "1\n",
            "4\n",
            "7\n"
          ]
        }
      ]
    },
    {
      "cell_type": "code",
      "source": [
        "# Veja agora como podemos utilizar o comando FOR para automatizar a atividade 2\n",
        "\n",
        "soma = 0 #variavel acumuladora\n",
        "\n",
        "for i in range(3):\n",
        "  nota = float(input(\"Informa sua nota: \"))\n",
        "  soma = soma + nota\n",
        "\n",
        "print(\"Sua média foi: \", soma / 3)"
      ],
      "metadata": {
        "id": "xj0Xkp1TR0rj",
        "colab": {
          "base_uri": "https://localhost:8080/"
        },
        "outputId": "bd68dc29-7047-494f-b951-64dac8ee31c5"
      },
      "execution_count": null,
      "outputs": [
        {
          "output_type": "stream",
          "name": "stdout",
          "text": [
            "Informa sua nota: 4\n",
            "Informa sua nota: 7\n",
            "Informa sua nota: 9\n",
            "Sua média foi:  6.666666666666667\n"
          ]
        }
      ]
    },
    {
      "cell_type": "code",
      "source": [
        "# Também podemos usar o for para trabalhar com listas\n",
        "\n",
        "Lista = [1,2,3,4,5,6,7,8,9,10]\n",
        "\n",
        "for i in Lista:\n",
        "  if i == 2:\n",
        "    print(\"Numero 2 existe na lista\")\n",
        "\n",
        "\n"
      ],
      "metadata": {
        "id": "DH5SgCQ9UvzJ",
        "colab": {
          "base_uri": "https://localhost:8080/"
        },
        "outputId": "54f19c93-57cc-4de9-e3fd-914995897ebc"
      },
      "execution_count": null,
      "outputs": [
        {
          "output_type": "stream",
          "name": "stdout",
          "text": [
            "Numero 2 existe na lista\n"
          ]
        }
      ]
    },
    {
      "cell_type": "code",
      "source": [
        "# Atividade 4: Dada a lista abaixo, imprima os números pares\n",
        "\n",
        "Lista = [1,2,3,4,5,6,7,8,9,10]\n",
        "\n",
        "\n",
        "\n",
        "\n"
      ],
      "metadata": {
        "id": "zFvCN-73TyDi"
      },
      "execution_count": null,
      "outputs": []
    },
    {
      "cell_type": "code",
      "source": [
        "#Atividade 5: Dada a lista abaixo, verifique se Morango faz parte da lista:\n",
        "\n",
        "Lista_compras = [\"Laranja\",\"Caju\",\"Maçã\",\"Uva\", \"Morango\"]\n",
        "\n",
        "for i in Lista_compras:\n",
        "  if i == \"Morango\":\n",
        "    print(\"Tem morango\")\n",
        "\n"
      ],
      "metadata": {
        "id": "7mq5bg_VVRHS",
        "colab": {
          "base_uri": "https://localhost:8080/"
        },
        "outputId": "3809313a-ce1f-4e01-d92d-1ea1679021ee"
      },
      "execution_count": null,
      "outputs": [
        {
          "output_type": "stream",
          "name": "stdout",
          "text": [
            "Tem morango\n"
          ]
        }
      ]
    },
    {
      "cell_type": "code",
      "source": [
        ""
      ],
      "metadata": {
        "id": "h5ishtHBWPzI"
      },
      "execution_count": null,
      "outputs": []
    }
  ]
}