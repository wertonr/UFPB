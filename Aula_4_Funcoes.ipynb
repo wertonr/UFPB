{
  "nbformat": 4,
  "nbformat_minor": 0,
  "metadata": {
    "colab": {
      "name": "Aula 4 - Funcoes.ipynb",
      "provenance": [],
      "collapsed_sections": [],
      "authorship_tag": "ABX9TyO+0QqesEdVyQkxd8/N5CMS",
      "include_colab_link": true
    },
    "kernelspec": {
      "name": "python3",
      "display_name": "Python 3"
    },
    "language_info": {
      "name": "python"
    }
  },
  "cells": [
    {
      "cell_type": "markdown",
      "metadata": {
        "id": "view-in-github",
        "colab_type": "text"
      },
      "source": [
        "<a href=\"https://colab.research.google.com/github/wertonr/UFPB/blob/main/Aula_4_Funcoes.ipynb\" target=\"_parent\"><img src=\"https://colab.research.google.com/assets/colab-badge.svg\" alt=\"Open In Colab\"/></a>"
      ]
    },
    {
      "cell_type": "markdown",
      "source": [
        "#Aula 4 - Funções\n",
        "\n",
        "Nesta aula veremos:\n",
        "- O que são funções;\n",
        "- Como criar funções sem parametro e com parametro;\n",
        "- Funções com parametro default;\n",
        "- Funções com retorno.\n",
        "\n"
      ],
      "metadata": {
        "id": "iPPXGWEqClDn"
      }
    },
    {
      "cell_type": "markdown",
      "source": [
        "## O que são funções"
      ],
      "metadata": {
        "id": "1K9w50QJF9IT"
      }
    },
    {
      "cell_type": "code",
      "execution_count": null,
      "metadata": {
        "id": "E8oFueQw6JgJ"
      },
      "outputs": [],
      "source": [
        "# Funções: Uma função nada mais é do que uma subrotina usada em um programa. Dessa maneira, tem como intuito agilizar nosso código e deixa-lo menos complexo, até agora já vimos algumas como: \n",
        "\n",
        "print()\n",
        "input()\n",
        "len()\n",
        "max() \n",
        "\n",
        "\n",
        "# lembrar que sempre depois de função tem os parenteses! caso, esqueça ocorrerá um erro. \n",
        "\n"
      ]
    },
    {
      "cell_type": "markdown",
      "source": [
        "## Como criar funções sem e com parametros"
      ],
      "metadata": {
        "id": "aaQ_hM_lF2L8"
      }
    },
    {
      "cell_type": "code",
      "source": [
        "# Como criar uma função:\n",
        "#função inicial\n",
        "\n",
        "def saudacao(): #DEFININDO (def) NOME_DA_FUNCAO (saudacao) (): #Não esquecer dos \"parenteses\" e \":\"\n",
        "  print(\"Seja bem-vindo(a)!\")\n",
        "  print(\"É um prazer ter você nesse curso\")  "
      ],
      "metadata": {
        "id": "DrZ8o2i662Q4"
      },
      "execution_count": null,
      "outputs": []
    },
    {
      "cell_type": "code",
      "source": [
        "# Sempre que quisermos usar uma função, vamos apenas chama-la pelo nome atribuido acrescido dos ()\n",
        "saudacao()"
      ],
      "metadata": {
        "id": "O38-I43l7RX9"
      },
      "execution_count": null,
      "outputs": []
    },
    {
      "cell_type": "code",
      "source": [
        ""
      ],
      "metadata": {
        "id": "5aUl1k7gEeEv"
      },
      "execution_count": null,
      "outputs": []
    },
    {
      "cell_type": "code",
      "source": [
        "#função com parametro um parametro:\n",
        "\n",
        "def saudacao(nome):\n",
        "  print(f\"Seja bem-vindo(a), {nome}!\")\n",
        "  print(\"É um prazer ter você nesse curso\")  "
      ],
      "metadata": {
        "id": "g4adajF57Z2V"
      },
      "execution_count": null,
      "outputs": []
    },
    {
      "cell_type": "code",
      "source": [
        "saudacao('Werton')"
      ],
      "metadata": {
        "id": "LjsqkoDk7t5T"
      },
      "execution_count": null,
      "outputs": []
    },
    {
      "cell_type": "code",
      "source": [
        "#função com dois parametros:\n",
        "\n",
        "def saudacao(nome,curso):\n",
        "  print(f\"Seja bem-vindo(a), {nome}!\")\n",
        "  print(f\"É um prazer ter você nesse curso de {curso}!\") "
      ],
      "metadata": {
        "id": "H5mRVQ-J8JVK"
      },
      "execution_count": null,
      "outputs": []
    },
    {
      "cell_type": "code",
      "source": [
        "saudacao(\"Werton\",\"Python\")"
      ],
      "metadata": {
        "id": "srntpqO88SQW"
      },
      "execution_count": null,
      "outputs": []
    },
    {
      "cell_type": "code",
      "source": [
        "# Exercício 1: Crie a função \"soma()\" que recebe dois parametros, e imprime o resultado da soma deles\n",
        "\n"
      ],
      "metadata": {
        "id": "LQnpkA-5E0DR"
      },
      "execution_count": null,
      "outputs": []
    },
    {
      "cell_type": "markdown",
      "source": [
        "## Criar função com parametro default"
      ],
      "metadata": {
        "id": "IJd23MMhGCGC"
      }
    },
    {
      "cell_type": "code",
      "source": [
        "#função com parametros default\n",
        "def saudacao(nome,curso=\"Python\"):\n",
        "  print(f\"Seja bem-vindo(a), {nome}!\")\n",
        "  print(f\"É um prazer ter você nesse curso de {curso}!\") "
      ],
      "metadata": {
        "id": "9FoPs5-R8ZMQ"
      },
      "execution_count": null,
      "outputs": []
    },
    {
      "cell_type": "markdown",
      "source": [
        "## Criar função com retorno"
      ],
      "metadata": {
        "id": "lfvcgov1GHNc"
      }
    },
    {
      "cell_type": "code",
      "source": [
        "#função com retorno, quando usar a função com return vai retornar a \"resposta\" colocada após o return\n",
        "#difere de um print, pois no print só mostro na tela a \"resposta\", mas muitas vezes vou precisar da resposta de uma função para aplica-la mais na frente ou com outras variaveis\n",
        "\n",
        "def soma(num1, num2):\n",
        "  return num1 + num2 #nada é executado depois do return, return encerra a função\n",
        "\n",
        "resultado = soma(5,7)\n",
        "print(\"O resultado da soma é\", resultado)"
      ],
      "metadata": {
        "colab": {
          "base_uri": "https://localhost:8080/"
        },
        "id": "Uk_mXPzr8jSj",
        "outputId": "04dfd988-87cd-46ee-f22e-fa5b8fca0d1f"
      },
      "execution_count": null,
      "outputs": [
        {
          "output_type": "stream",
          "name": "stdout",
          "text": [
            "O resultado da soma é 12\n"
          ]
        }
      ]
    },
    {
      "cell_type": "code",
      "source": [
        "# Exercício 2: Crie a função IMC, que retorne o resultado:\n"
      ],
      "metadata": {
        "id": "tHVRHThkKB8o"
      },
      "execution_count": null,
      "outputs": []
    },
    {
      "cell_type": "markdown",
      "source": [
        "![resultado IMC.jpg](data:image/jpeg;base64,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)"
      ],
      "metadata": {
        "id": "qt32ZJi2K4Ns"
      }
    },
    {
      "cell_type": "code",
      "source": [
        "# Fazendo uma função calculadora\n",
        "\n",
        "def calculadora (num1, num2, operacao=\"+\"):\n",
        "  if operacao == \"+\":\n",
        "    return num1 + num2\n",
        "  elif operacao == '-':\n",
        "    return num1 - num2\n",
        "  elif operacao == '/':\n",
        "    return num1 / num2\n",
        "  elif operacao == '*':\n",
        "    return num1 * num2\n",
        "\n",
        "resultado = calculadora(10,20)\n",
        "print(resultado)\n",
        "  "
      ],
      "metadata": {
        "id": "MeqcaBGb9jze"
      },
      "execution_count": null,
      "outputs": []
    }
  ]
}